{
 "cells": [
  {
   "cell_type": "code",
   "execution_count": 2,
   "id": "7adba120-925a-4d7f-893f-016b1abd1b09",
   "metadata": {},
   "outputs": [
    {
     "name": "stdout",
     "output_type": "stream",
     "text": [
      "Jupyter environment detected. Enabling Open3D WebVisualizer.\n",
      "[Open3D INFO] WebRTC GUI backend enabled.\n",
      "[Open3D INFO] WebRTCWindowSystem: HTTP handshake server disabled.\n"
     ]
    }
   ],
   "source": [
    "import numpy as np\n",
    "import open3d as o3d"
   ]
  },
  {
   "cell_type": "code",
   "execution_count": 9,
   "id": "c030b49a-245d-45d7-99d2-0795671c8d7e",
   "metadata": {},
   "outputs": [
    {
     "name": "stdout",
     "output_type": "stream",
     "text": [
      "PointCloud with 1766 points.\n",
      "[[ 0.81019461 -0.58799285 -6.15000582]\n",
      " [ 1.12913942 -0.40024313 -6.63102341]\n",
      " [ 0.43239903  0.27013993 -6.44182158]\n",
      " ...\n",
      " [ 0.95782048 -0.84563065 -6.63928509]\n",
      " [ 1.10642684 -0.84486693 -6.74842167]\n",
      " [ 1.6267767  -0.79402298 -6.81863689]]\n"
     ]
    }
   ],
   "source": [
    "# Loading the Given Cloud Point\n",
    "pcd = o3d.io.read_point_cloud(\"cam_3_4.pcd\")\n",
    "print(pcd)\n",
    "print(np.asarray(pcd.points))\n",
    "o3d.visualization.draw_geometries([pcd],\n",
    "                                  zoom=0.3412,\n",
    "                                  front=[0.4257, -0.2125, -0.8795],\n",
    "                                  lookat=[2.6172, 2.0475, 1.532],\n",
    "                                  up=[-0.0694, -0.9768, 0.2024])"
   ]
  },
  {
   "cell_type": "code",
   "execution_count": 4,
   "id": "5845b6b3-91a4-4433-b71b-acf3e1b42c27",
   "metadata": {},
   "outputs": [
    {
     "name": "stdout",
     "output_type": "stream",
     "text": [
      "Downsample the point cloud with a voxel of 0.05\n"
     ]
    }
   ],
   "source": [
    "print(\"Downsample the point cloud with a voxel of 0.05\")\n",
    "downpcd = pcd.voxel_down_sample(voxel_size=0.05)\n",
    "o3d.visualization.draw_geometries([downpcd],\n",
    "                                  zoom=0.3412,\n",
    "                                  front=[0.4257, -0.2125, -0.8795],\n",
    "                                  lookat=[2.6172, 2.0475, 1.532],\n",
    "                                  up=[-0.0694, -0.9768, 0.2024])"
   ]
  },
  {
   "cell_type": "code",
   "execution_count": 5,
   "id": "723c35ab-4399-41df-a464-4c6dcb383beb",
   "metadata": {},
   "outputs": [
    {
     "name": "stdout",
     "output_type": "stream",
     "text": [
      "Recompute the normal of the downsampled point cloud\n"
     ]
    }
   ],
   "source": [
    "print(\"Recompute the normal of the downsampled point cloud\")\n",
    "downpcd.estimate_normals(\n",
    "    search_param=o3d.geometry.KDTreeSearchParamHybrid(radius=0.1, max_nn=30))\n",
    "o3d.visualization.draw_geometries([downpcd],\n",
    "                                  zoom=0.3412,\n",
    "                                  front=[0.4257, -0.2125, -0.8795],\n",
    "                                  lookat=[2.6172, 2.0475, 1.532],\n",
    "                                  up=[-0.0694, -0.9768, 0.2024],\n",
    "                                  point_show_normal=True)"
   ]
  },
  {
   "cell_type": "code",
   "execution_count": 6,
   "id": "8c990a3e-4554-4ec6-9fb9-8a953e9527e2",
   "metadata": {},
   "outputs": [
    {
     "name": "stdout",
     "output_type": "stream",
     "text": [
      "Print a normal vector of the 0th point\n",
      "[ 0.31728457 -0.16940977  0.933076  ]\n"
     ]
    }
   ],
   "source": [
    "print(\"Print a normal vector of the 0th point\")\n",
    "print(downpcd.normals[0])"
   ]
  },
  {
   "cell_type": "code",
   "execution_count": 7,
   "id": "e30e3e45-c381-4718-8f1f-9843dd1c0c1b",
   "metadata": {},
   "outputs": [
    {
     "name": "stdout",
     "output_type": "stream",
     "text": [
      "Print the normal vectors of the first 10 points\n",
      "[[ 0.31728457 -0.16940977  0.933076  ]\n",
      " [ 0.85930273 -0.33243588  0.38869681]\n",
      " [-0.47406665  0.07641665 -0.87716664]\n",
      " [ 0.42092626 -0.09563591  0.90203928]\n",
      " [ 0.11170747 -0.04639566  0.99265749]\n",
      " [ 0.56093526 -0.03713873  0.82702621]\n",
      " [ 0.11145788 -0.04475097  0.99276104]\n",
      " [-0.33520146 -0.93930904 -0.07306514]\n",
      " [ 0.57004418 -0.03648768  0.82080344]\n",
      " [ 0.98283347  0.1633787  -0.08570745]]\n"
     ]
    }
   ],
   "source": [
    "print(\"Print the normal vectors of the first 10 points\")\n",
    "print(np.asarray(downpcd.normals)[:10, :])"
   ]
  },
  {
   "cell_type": "code",
   "execution_count": 8,
   "id": "2503471c-2923-4a38-a0f8-61f807959813",
   "metadata": {},
   "outputs": [
    {
     "data": {
      "text/plain": [
       "True"
      ]
     },
     "execution_count": 8,
     "metadata": {},
     "output_type": "execute_result"
    }
   ],
   "source": [
    "o3d.io.write_point_cloud(\"cam_3_4.pcd\", downpcd)"
   ]
  }
 ],
 "metadata": {
  "kernelspec": {
   "display_name": "venv",
   "language": "python",
   "name": "venv"
  },
  "language_info": {
   "codemirror_mode": {
    "name": "ipython",
    "version": 3
   },
   "file_extension": ".py",
   "mimetype": "text/x-python",
   "name": "python",
   "nbconvert_exporter": "python",
   "pygments_lexer": "ipython3",
   "version": "3.8.2"
  }
 },
 "nbformat": 4,
 "nbformat_minor": 5
}
