{
 "cells": [
  {
   "cell_type": "code",
   "execution_count": 69,
   "id": "4c908a79-fbd7-4f6d-b17a-451ca93673ae",
   "metadata": {},
   "outputs": [
    {
     "name": "stdout",
     "output_type": "stream",
     "text": [
      "Load a ply point cloud, print it, and render it\n",
      "Downsample the point cloud with a voxel of 0.02\n",
      "Every 5th points are selected\n",
      "Statistical oulier removal\n",
      "Showing outliers (red) and inliers (gray): \n",
      "Radius oulier removal\n",
      "Showing outliers (red) and inliers (gray): \n"
     ]
    }
   ],
   "source": [
    "import open3d as o3d\n",
    "import numpy as np\n",
    "import matplotlib.pyplot as plt\n",
    "\n",
    "def display_inlier_outlier(cloud, ind):\n",
    "    inlier_cloud = cloud.select_by_index(ind)\n",
    "    outlier_cloud = cloud.select_by_index(ind, invert=True)\n",
    "\n",
    "    print(\"Showing outliers (red) and inliers (gray): \")\n",
    "    outlier_cloud.paint_uniform_color([1, 0, 0])\n",
    "    inlier_cloud.paint_uniform_color([0.8, 0.8, 0.8])\n",
    "    o3d.visualization.draw_geometries([inlier_cloud, outlier_cloud])\n",
    "\n",
    "\n",
    "if __name__ == \"__main__\":\n",
    "\n",
    "    print(\"Load a ply point cloud, print it, and render it\")\n",
    "    pcd = o3d.io.read_point_cloud(\"MergingPointCloudData/cam_3_4.ply\")\n",
    "    pcd.estimate_normals()\n",
    "    o3d.visualization.draw_geometries([pcd])\n",
    "\n",
    "    print(\"Downsample the point cloud with a voxel of 0.02\")\n",
    "    voxel_down_pcd = pcd.voxel_down_sample(voxel_size=0.02)\n",
    "    o3d.visualization.draw_geometries([voxel_down_pcd])\n",
    "\n",
    "    print(\"Every 5th points are selected\")\n",
    "    uni_down_pcd = pcd.uniform_down_sample(every_k_points=5)\n",
    "    o3d.visualization.draw_geometries([uni_down_pcd])\n",
    "\n",
    "    print(\"Statistical oulier removal\")\n",
    "    cl, ind = voxel_down_pcd.remove_statistical_outlier(nb_neighbors=20,\n",
    "                                                    std_ratio=2.0)\n",
    "    display_inlier_outlier(voxel_down_pcd, ind)\n",
    "\n",
    "    print(\"Radius oulier removal\")\n",
    "    cl, ind = voxel_down_pcd.remove_radius_outlier(nb_points=16,\n",
    "                                                  radius=0.05)\n",
    "    display_inlier_outlier(voxel_down_pcd, ind)"
   ]
  },
  {
   "cell_type": "code",
   "execution_count": 79,
   "id": "11455bb0-cf4e-4ef6-9e56-5919ce8dffb7",
   "metadata": {},
   "outputs": [
    {
     "name": "stdout",
     "output_type": "stream",
     "text": [
      "run Poisson surface reconstruction\n",
      "[Open3D DEBUG] Input Points / Samples: 10541 / 10536\n",
      "[Open3D DEBUG] #   Got kernel density: 0.056 (s), 330.844 (MB) / 400.621 (MB) / 535 (MB)\n",
      "[Open3D DEBUG] #     Got normal field: 0.026 (s), 330.844 (MB) / 400.621 (MB) / 535 (MB)\n",
      "[Open3D DEBUG] Point weight / Estimated Area: 1.093265e-04 / 1.152410e+00\n",
      "[Open3D DEBUG] #       Finalized tree: 0.0930002 (s), 335.289 (MB) / 400.621 (MB) / 535 (MB)\n",
      "[Open3D DEBUG] #  Set FEM constraints: 0.138 (s), 332.098 (MB) / 400.621 (MB) / 535 (MB)\n",
      "[Open3D DEBUG] #Set point constraints: 0.026 (s), 332.098 (MB) / 400.621 (MB) / 535 (MB)\n",
      "[Open3D DEBUG] Leaf Nodes / Active Nodes / Ghost Nodes: 279938 / 162712 / 157217\n",
      "[Open3D DEBUG] Memory Usage: 332.098 MB\n",
      "[Open3D DEBUG] # Linear system solved: 0.315 (s), 332.305 (MB) / 400.621 (MB) / 535 (MB)\n",
      "[Open3D DEBUG] Got average: 0.0109999 (s), 332.305 (MB) / 400.621 (MB) / 535 (MB)\n",
      "[Open3D DEBUG] Iso-Value: 4.971368e-01 = 5.240319e+03 / 1.054100e+04\n",
      "[Open3D DEBUG] #          Total Solve:       1.2 (s),     400.6 (MB)\n",
      "TriangleMesh with 21438 points and 42801 triangles.\n"
     ]
    }
   ],
   "source": [
    "print('run Poisson surface reconstruction')\n",
    "with o3d.utility.VerbosityContextManager(\n",
    "        o3d.utility.VerbosityLevel.Debug) as cm:\n",
    "    mesh, densities = o3d.geometry.TriangleMesh.create_from_point_cloud_poisson(\n",
    "        voxel_down_pcd, depth=9)\n",
    "print(mesh)\n",
    "o3d.visualization.draw_geometries([mesh])"
   ]
  },
  {
   "cell_type": "code",
   "execution_count": 80,
   "id": "a3110994-5b0f-4013-baf8-520e866416af",
   "metadata": {},
   "outputs": [
    {
     "name": "stdout",
     "output_type": "stream",
     "text": [
      "visualize densities\n"
     ]
    }
   ],
   "source": [
    "print('visualize densities')\n",
    "densities = np.asarray(densities)\n",
    "density_colors = plt.get_cmap('plasma')(\n",
    "    (densities - densities.min()) / (densities.max() - densities.min()))\n",
    "density_colors = density_colors[:, :3]\n",
    "density_mesh = o3d.geometry.TriangleMesh()\n",
    "density_mesh.vertices = mesh.vertices\n",
    "density_mesh.triangles = mesh.triangles\n",
    "density_mesh.triangle_normals = mesh.triangle_normals\n",
    "density_mesh.vertex_colors = o3d.utility.Vector3dVector(density_colors)\n",
    "o3d.visualization.draw_geometries([density_mesh])"
   ]
  },
  {
   "cell_type": "code",
   "execution_count": 81,
   "id": "201bc2c8-f6c6-467a-a28b-c40638e59fd1",
   "metadata": {},
   "outputs": [
    {
     "name": "stdout",
     "output_type": "stream",
     "text": [
      "remove low density vertices\n",
      "TriangleMesh with 10719 points and 17271 triangles.\n"
     ]
    }
   ],
   "source": [
    "print('remove low density vertices')\n",
    "vertices_to_remove = densities < np.quantile(densities, 0.1)\n",
    "mesh.remove_vertices_by_mask(vertices_to_remove)\n",
    "print(mesh)\n",
    "o3d.visualization.draw_geometries([mesh])"
   ]
  }
 ],
 "metadata": {
  "kernelspec": {
   "display_name": "venv",
   "language": "python",
   "name": "venv"
  },
  "language_info": {
   "codemirror_mode": {
    "name": "ipython",
    "version": 3
   },
   "file_extension": ".py",
   "mimetype": "text/x-python",
   "name": "python",
   "nbconvert_exporter": "python",
   "pygments_lexer": "ipython3",
   "version": "3.8.2"
  }
 },
 "nbformat": 4,
 "nbformat_minor": 5
}
